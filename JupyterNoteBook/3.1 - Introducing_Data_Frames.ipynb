{
 "cells": [
  {
   "cell_type": "markdown",
   "id": "7f08cb73",
   "metadata": {},
   "source": [
    "# Pandas:\n",
    "\n",
    "- Pandas is an open source library which uses to manipulate data in python.\n",
    "\n",
    "- pandas import with alias pd.\n",
    "\n"
   ]
  },
  {
   "cell_type": "code",
   "execution_count": 1,
   "id": "e3a3cb25",
   "metadata": {},
   "outputs": [],
   "source": [
    "import pandas as pd"
   ]
  },
  {
   "cell_type": "markdown",
   "id": "98975e4c",
   "metadata": {},
   "source": [
    "1. Pandas is design to work with rectangular data.\n",
    "\n",
    "2. In pandas Rectangular data represented as data frame.\n",
    "\n",
    "3. DataFrame.head():\n",
    "    This method is used to represent first five rows of dataFrame.\n",
    "    \n",
    "4. DataFrame.tail():\n",
    "    This method is used to represent last five rows of dataFrame.\n",
    "    \n",
    "\n",
    "5. DataFrame.head(n):\n",
    "    This method is used to represent first nth rows of dataFrame, where n is a     natural number.    \n",
    "    \n",
    "6. DataFrame.info():\n",
    "     This is used to get information about dataset.\n",
    "     \n",
    "7. DataFrame.Shape():\n",
    "     This method gives us no of rows and columns of DataFrame.\n",
    "\n",
    "8. DataFrame.Describe():\n",
    "     This methods gives us basic statistical values of data columns like mean,      max and std etc.\n",
    "     \n",
    "9. .values(), .Colums() and .index()() gives us information about data values,          attribute and columns"
   ]
  },
  {
   "cell_type": "markdown",
   "id": "3c53a116",
   "metadata": {},
   "source": [
    "## Sorting And Subsetting: "
   ]
  },
  {
   "cell_type": "markdown",
   "id": "d1b011b8",
   "metadata": {},
   "source": [
    "1. DataFrame.sort_values(\"Columnname\"):\n",
    "- This method is use to sort (ascending or descending ) the values of data set with respect to given column name.\n",
    "- We can sort values with respect to multiple column by passing in a list.\n",
    "- we can sort data frame by ascending or descending order by passing key arg ascending = true/false.\n",
    "\n",
    "\n",
    "2. DataFrame[[\"Column1\",\"Column2 . ..]]:\n",
    "- This method is used to print particular column by mentioning column name.\n",
    "- "
   ]
  },
  {
   "cell_type": "code",
   "execution_count": 1,
   "id": "17743288",
   "metadata": {},
   "outputs": [],
   "source": [
    "import pandas as pd"
   ]
  },
  {
   "cell_type": "code",
   "execution_count": 13,
   "id": "7dcfde8d",
   "metadata": {},
   "outputs": [],
   "source": [
    "df = pd.DataFrame(\n",
    "    {\n",
    "        'Name':[\"zeeshan\", \"Faizan\", \"Ali\"], \n",
    "        \"F.name\": [\"ALtaf\", \"Farooq\",\"Shehzad\"],\n",
    "    \"Age\":[\"16\",'17','18']})\n"
   ]
  },
  {
   "cell_type": "code",
   "execution_count": 14,
   "id": "1a628c43",
   "metadata": {},
   "outputs": [
    {
     "name": "stdout",
     "output_type": "stream",
     "text": [
      "      Name   F.name Age\n",
      "0  zeeshan    ALtaf  16\n",
      "1   Faizan   Farooq  17\n",
      "2      Ali  Shehzad  18\n"
     ]
    }
   ],
   "source": [
    "print(df.head())"
   ]
  },
  {
   "cell_type": "code",
   "execution_count": 18,
   "id": "07a2e14f",
   "metadata": {},
   "outputs": [
    {
     "data": {
      "text/html": [
       "<div>\n",
       "<style scoped>\n",
       "    .dataframe tbody tr th:only-of-type {\n",
       "        vertical-align: middle;\n",
       "    }\n",
       "\n",
       "    .dataframe tbody tr th {\n",
       "        vertical-align: top;\n",
       "    }\n",
       "\n",
       "    .dataframe thead th {\n",
       "        text-align: right;\n",
       "    }\n",
       "</style>\n",
       "<table border=\"1\" class=\"dataframe\">\n",
       "  <thead>\n",
       "    <tr style=\"text-align: right;\">\n",
       "      <th></th>\n",
       "      <th>Name</th>\n",
       "      <th>F.name</th>\n",
       "      <th>Age</th>\n",
       "    </tr>\n",
       "  </thead>\n",
       "  <tbody>\n",
       "    <tr>\n",
       "      <th>0</th>\n",
       "      <td>zeeshan</td>\n",
       "      <td>ALtaf</td>\n",
       "      <td>16</td>\n",
       "    </tr>\n",
       "  </tbody>\n",
       "</table>\n",
       "</div>"
      ],
      "text/plain": [
       "      Name F.name Age\n",
       "0  zeeshan  ALtaf  16"
      ]
     },
     "execution_count": 18,
     "metadata": {},
     "output_type": "execute_result"
    }
   ],
   "source": [
    "df[df[\"Name\"] == 'zeeshan']"
   ]
  },
  {
   "cell_type": "code",
   "execution_count": 21,
   "id": "4892c0f6",
   "metadata": {},
   "outputs": [
    {
     "name": "stdout",
     "output_type": "stream",
     "text": [
      "      Name  F.name Age\n",
      "0  zeeshan   ALtaf  16\n",
      "1   Faizan  Farooq  17\n"
     ]
    }
   ],
   "source": [
    "print(df[df[\"Age\"] <'18' ])"
   ]
  },
  {
   "cell_type": "code",
   "execution_count": 23,
   "id": "09d84398",
   "metadata": {},
   "outputs": [
    {
     "name": "stdout",
     "output_type": "stream",
     "text": [
      "     Name   F.name Age\n",
      "1  Faizan   Farooq  17\n",
      "2     Ali  Shehzad  18\n"
     ]
    }
   ],
   "source": [
    "print(df.tail(2))"
   ]
  },
  {
   "cell_type": "code",
   "execution_count": 28,
   "id": "6a4d6cc7",
   "metadata": {},
   "outputs": [],
   "source": [
    "df[\"full_name\"] = df[\"Name\"] +\" \"+df[\"F.name\"] #Adding new column\n"
   ]
  },
  {
   "cell_type": "code",
   "execution_count": 29,
   "id": "84ccd33b",
   "metadata": {},
   "outputs": [
    {
     "name": "stdout",
     "output_type": "stream",
     "text": [
      "      Name   F.name Age      full_name\n",
      "0  zeeshan    ALtaf  16  zeeshan ALtaf\n",
      "1   Faizan   Farooq  17  Faizan Farooq\n",
      "2      Ali  Shehzad  18    Ali Shehzad\n"
     ]
    }
   ],
   "source": [
    "print(df)"
   ]
  },
  {
   "cell_type": "code",
   "execution_count": 31,
   "id": "79395193",
   "metadata": {},
   "outputs": [
    {
     "name": "stdout",
     "output_type": "stream",
     "text": [
      "0    zeeshan\n",
      "1     Faizan\n",
      "2        Ali\n",
      "Name: Name, dtype: object\n"
     ]
    }
   ],
   "source": [
    "print(df.Name)"
   ]
  },
  {
   "cell_type": "code",
   "execution_count": 35,
   "id": "7bd35abe",
   "metadata": {},
   "outputs": [
    {
     "data": {
      "text/html": [
       "<div>\n",
       "<style scoped>\n",
       "    .dataframe tbody tr th:only-of-type {\n",
       "        vertical-align: middle;\n",
       "    }\n",
       "\n",
       "    .dataframe tbody tr th {\n",
       "        vertical-align: top;\n",
       "    }\n",
       "\n",
       "    .dataframe thead th {\n",
       "        text-align: right;\n",
       "    }\n",
       "</style>\n",
       "<table border=\"1\" class=\"dataframe\">\n",
       "  <thead>\n",
       "    <tr style=\"text-align: right;\">\n",
       "      <th></th>\n",
       "      <th>Name</th>\n",
       "      <th>Age</th>\n",
       "    </tr>\n",
       "  </thead>\n",
       "  <tbody>\n",
       "    <tr>\n",
       "      <th>0</th>\n",
       "      <td>zeeshan</td>\n",
       "      <td>16</td>\n",
       "    </tr>\n",
       "    <tr>\n",
       "      <th>1</th>\n",
       "      <td>Faizan</td>\n",
       "      <td>17</td>\n",
       "    </tr>\n",
       "    <tr>\n",
       "      <th>2</th>\n",
       "      <td>Ali</td>\n",
       "      <td>18</td>\n",
       "    </tr>\n",
       "  </tbody>\n",
       "</table>\n",
       "</div>"
      ],
      "text/plain": [
       "      Name Age\n",
       "0  zeeshan  16\n",
       "1   Faizan  17\n",
       "2      Ali  18"
      ]
     },
     "execution_count": 35,
     "metadata": {},
     "output_type": "execute_result"
    }
   ],
   "source": [
    "df[[\"Name\",\"Age\"]]"
   ]
  },
  {
   "cell_type": "code",
   "execution_count": null,
   "id": "dccd2584",
   "metadata": {},
   "outputs": [],
   "source": []
  }
 ],
 "metadata": {
  "kernelspec": {
   "display_name": "Python 3 (ipykernel)",
   "language": "python",
   "name": "python3"
  },
  "language_info": {
   "codemirror_mode": {
    "name": "ipython",
    "version": 3
   },
   "file_extension": ".py",
   "mimetype": "text/x-python",
   "name": "python",
   "nbconvert_exporter": "python",
   "pygments_lexer": "ipython3",
   "version": "3.9.12"
  }
 },
 "nbformat": 4,
 "nbformat_minor": 5
}
