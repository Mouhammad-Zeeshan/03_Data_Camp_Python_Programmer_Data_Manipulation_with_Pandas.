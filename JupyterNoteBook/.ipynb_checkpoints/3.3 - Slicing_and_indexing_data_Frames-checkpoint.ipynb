{
 "cells": [
  {
   "cell_type": "markdown",
   "id": "95381f01",
   "metadata": {},
   "source": [
    "### Commands: "
   ]
  },
  {
   "cell_type": "raw",
   "id": "03362aec",
   "metadata": {},
   "source": [
    "1. We can set index column by using set index method.\n",
    "DataFrame.set_index('name of column which we want to set an index column.\n",
    "\n",
    "2. We can reset index setting by command reset_index methods.\n",
    "DataFrame.reset_index()\n",
    "DataFrame.reset_index(drop = True) #if we want to delete prevous index column.\n",
    "\n",
    "3. we can display subset of data using loc methods.\n",
    "DataFrame.loc['columnname1','columnname2' . . . ]\n",
    "\n",
    "4. We can subset dataframe with multiple  argument.\n",
    "DataFrame.loc[[('columnname1', 'subcriteria1'),('columnname2', 'subcriteria2'), . . .]] . . . ]\n",
    "\n",
    "5. We can sort dataframe using index column.\n",
    "DataFrame.sort_index()\n",
    "\n"
   ]
  },
  {
   "cell_type": "code",
   "execution_count": null,
   "id": "26f8e9c0",
   "metadata": {},
   "outputs": [],
   "source": []
  }
 ],
 "metadata": {
  "kernelspec": {
   "display_name": "Python 3 (ipykernel)",
   "language": "python",
   "name": "python3"
  },
  "language_info": {
   "codemirror_mode": {
    "name": "ipython",
    "version": 3
   },
   "file_extension": ".py",
   "mimetype": "text/x-python",
   "name": "python",
   "nbconvert_exporter": "python",
   "pygments_lexer": "ipython3",
   "version": "3.9.12"
  }
 },
 "nbformat": 4,
 "nbformat_minor": 5
}
