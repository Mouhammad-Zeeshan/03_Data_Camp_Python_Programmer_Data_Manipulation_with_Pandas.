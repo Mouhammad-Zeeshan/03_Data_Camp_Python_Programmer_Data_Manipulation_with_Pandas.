{
 "cells": [
  {
   "cell_type": "markdown",
   "id": "43ce51a0",
   "metadata": {},
   "source": [
    " ## Missing Values. "
   ]
  },
  {
   "cell_type": "markdown",
   "id": "b4dd032c",
   "metadata": {},
   "source": [
    "1. In pandas, Missing data values are shown by Nan means not a number.\n",
    "\n",
    "2. To Detect missing values we use:\n",
    "   \n",
    "   dataframe.isna()\n",
    "\n",
    "\n",
    "3. Another sufficient way to detect missing values is (Shows name of columns     \n",
    "   containing missing values):\n",
    "    \n",
    "    dataframe.isna().any()\n",
    "\n",
    "\n",
    "4. To count number of missing values correspond to each column:\n",
    "     \n",
    "    dataframe.isna().sum()\n",
    "  \n",
    "\n",
    "5. To remove missing values rows we use :\n",
    "\n",
    "    dataframe.dropna()\n",
    "    \n",
    "\n",
    "6. To replace missing values, we use:\n",
    "\n",
    "    dataframe.fillna(x), where x shows replacing number\n",
    "  \n",
    "\n",
    "7. \n",
    "\n"
   ]
  },
  {
   "cell_type": "markdown",
   "id": "3903c087",
   "metadata": {},
   "source": [
    "## Pandas Creating DataFrames.\n"
   ]
  },
  {
   "cell_type": "code",
   "execution_count": 2,
   "id": "9a62cc9b",
   "metadata": {},
   "outputs": [],
   "source": [
    "import pandas as pd"
   ]
  },
  {
   "cell_type": "code",
   "execution_count": 4,
   "id": "66a520a4",
   "metadata": {},
   "outputs": [
    {
     "name": "stdout",
     "output_type": "stream",
     "text": [
      "      name f_name\n",
      "0  Zeeshan  Altaf\n",
      "1   Faizan  Altaf\n"
     ]
    }
   ],
   "source": [
    "# List of DIctionary Method:\n",
    "\n",
    "list_1 = [{'name':'Zeeshan', 'f_name':'Altaf'},{'name':'Faizan', 'f_name':'Altaf'}\n",
    "    \n",
    "]\n",
    "print(pd.DataFrame(list_1))"
   ]
  },
  {
   "cell_type": "code",
   "execution_count": 6,
   "id": "bee46432",
   "metadata": {},
   "outputs": [
    {
     "name": "stdout",
     "output_type": "stream",
     "text": [
      "      name f_name\n",
      "0  Zeeshan  Altaf\n",
      "1   Faizan  Altaf\n"
     ]
    }
   ],
   "source": [
    "# Dictionary of List.\n",
    "\n",
    "dict_1 = {'name':['Zeeshan','Faizan'], 'f_name':['Altaf','Altaf']\n",
    "    \n",
    "}\n",
    "print(pd.DataFrame(dict_1))"
   ]
  },
  {
   "cell_type": "code",
   "execution_count": null,
   "id": "c82c858f",
   "metadata": {},
   "outputs": [],
   "source": []
  }
 ],
 "metadata": {
  "kernelspec": {
   "display_name": "Python 3 (ipykernel)",
   "language": "python",
   "name": "python3"
  },
  "language_info": {
   "codemirror_mode": {
    "name": "ipython",
    "version": 3
   },
   "file_extension": ".py",
   "mimetype": "text/x-python",
   "name": "python",
   "nbconvert_exporter": "python",
   "pygments_lexer": "ipython3",
   "version": "3.9.12"
  }
 },
 "nbformat": 4,
 "nbformat_minor": 5
}
