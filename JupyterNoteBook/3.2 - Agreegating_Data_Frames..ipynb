{
 "cells": [
  {
   "cell_type": "markdown",
   "id": "6ca288da",
   "metadata": {},
   "source": [
    "## Python Agreegate Method: "
   ]
  },
  {
   "cell_type": "raw",
   "id": "d152bc12",
   "metadata": {},
   "source": [
    "count()  \t  Returns count for each group\n",
    "size()\t      Returns size for each group\n",
    "sum()\t      Returns total sum for each group\n",
    "mean()     \t  Returns mean for each group. Same as average()\n",
    "average()\t  Returns average for each group. Same as mean()\n",
    "std()\t      Returns standard deviation for each group\n",
    "var()\t      Return var for each group\n",
    "sem()         Standard error of the mean of groups\n",
    "describe()\t  Returns different statistics\n",
    "min()\t      Returns minimum value for each group\n",
    "max()\t      Returns maximum value for each group\n",
    "first()\t      Returns first value for each group\n",
    "last()\t      Returns last value for each group\n",
    "nth()     \t  Returns nth value for each group"
   ]
  },
  {
   "cell_type": "markdown",
   "id": "5badc4f2",
   "metadata": {},
   "source": [
    "## Pandas Statistics Functions: "
   ]
  },
  {
   "cell_type": "raw",
   "id": "329184ef",
   "metadata": {},
   "source": [
    "S.No.\tFunction\tDescription\n",
    "    1\tcount()\t Number of non-null observations\n",
    "    2\tsum()\tSum of values\n",
    "    3\tmean()\tMean of Values\n",
    "    4\tmedian()\tMedian of Values\n",
    "    5\tmode()\tMode of values\n",
    "    6\tstd()\tStandard Deviation of the Values\n",
    "    7\tmin()\tMinimum Value\n",
    "    8\tmax()\tMaximum Value\n",
    "    9\tabs()\tAbsolute Value\n",
    "    10\tprod()\tProduct of Values\n",
    "    "
   ]
  },
  {
   "cell_type": "code",
   "execution_count": 1,
   "id": "5db001ca",
   "metadata": {},
   "outputs": [],
   "source": [
    "import pandas as pd \n"
   ]
  },
  {
   "cell_type": "code",
   "execution_count": 2,
   "id": "f918a3d8",
   "metadata": {},
   "outputs": [
    {
     "name": "stdout",
     "output_type": "stream",
     "text": [
      "  name  age\n",
      "0  zee   16\n",
      "1  Fai   17\n"
     ]
    }
   ],
   "source": [
    "df = pd.DataFrame({\"name\": [\"zee\",'Fai'], \"age\": [16,17]})\n",
    "print(df\n",
    "     )"
   ]
  },
  {
   "cell_type": "code",
   "execution_count": 3,
   "id": "59e843b1",
   "metadata": {},
   "outputs": [
    {
     "data": {
      "text/html": [
       "<div>\n",
       "<style scoped>\n",
       "    .dataframe tbody tr th:only-of-type {\n",
       "        vertical-align: middle;\n",
       "    }\n",
       "\n",
       "    .dataframe tbody tr th {\n",
       "        vertical-align: top;\n",
       "    }\n",
       "\n",
       "    .dataframe thead th {\n",
       "        text-align: right;\n",
       "    }\n",
       "</style>\n",
       "<table border=\"1\" class=\"dataframe\">\n",
       "  <thead>\n",
       "    <tr style=\"text-align: right;\">\n",
       "      <th></th>\n",
       "      <th>name</th>\n",
       "      <th>age</th>\n",
       "    </tr>\n",
       "  </thead>\n",
       "  <tbody>\n",
       "    <tr>\n",
       "      <th>1</th>\n",
       "      <td>Fai</td>\n",
       "      <td>17</td>\n",
       "    </tr>\n",
       "    <tr>\n",
       "      <th>0</th>\n",
       "      <td>zee</td>\n",
       "      <td>16</td>\n",
       "    </tr>\n",
       "  </tbody>\n",
       "</table>\n",
       "</div>"
      ],
      "text/plain": [
       "  name  age\n",
       "1  Fai   17\n",
       "0  zee   16"
      ]
     },
     "execution_count": 3,
     "metadata": {},
     "output_type": "execute_result"
    }
   ],
   "source": [
    "df.sort_values(\"age\", ascending = False)\n"
   ]
  },
  {
   "cell_type": "code",
   "execution_count": 4,
   "id": "20eac966",
   "metadata": {},
   "outputs": [
    {
     "data": {
      "text/plain": [
       "0    zee\n",
       "1    Fai\n",
       "Name: name, dtype: object"
      ]
     },
     "execution_count": 4,
     "metadata": {},
     "output_type": "execute_result"
    }
   ],
   "source": [
    "df[\"name\"]"
   ]
  },
  {
   "cell_type": "code",
   "execution_count": 5,
   "id": "f2fc5868",
   "metadata": {},
   "outputs": [
    {
     "name": "stdout",
     "output_type": "stream",
     "text": [
      "0    ZEE\n",
      "1    FAI\n",
      "Name: name, dtype: object\n"
     ]
    }
   ],
   "source": [
    "def pro(name):\n",
    "    return name.upper()\n",
    "print(df[\"name\"].agg(pro))"
   ]
  },
  {
   "cell_type": "markdown",
   "id": "b8da46fb",
   "metadata": {},
   "source": [
    "### Group command:\n",
    "\n",
    "\n",
    "#DataFrame.groupby(\"group wise argument\")[columnname].function"
   ]
  },
  {
   "cell_type": "code",
   "execution_count": 6,
   "id": "32aff7ce",
   "metadata": {},
   "outputs": [],
   "source": [
    "# DataFrame.groupby(\"group wise argument\")[columnname].function"
   ]
  },
  {
   "cell_type": "code",
   "execution_count": 7,
   "id": "74bba23f",
   "metadata": {},
   "outputs": [
    {
     "data": {
      "text/plain": [
       "33"
      ]
     },
     "execution_count": 7,
     "metadata": {},
     "output_type": "execute_result"
    }
   ],
   "source": [
    "df[\"age\"].sum()\n"
   ]
  },
  {
   "cell_type": "markdown",
   "id": "2c9efe35",
   "metadata": {},
   "source": [
    "# Pivot Table:\n",
    "\n",
    "#DataFram.pivot_table(values = \"column u want to column\", index = \"column u want to group by\")"
   ]
  },
  {
   "cell_type": "code",
   "execution_count": 8,
   "id": "3289deee",
   "metadata": {},
   "outputs": [],
   "source": [
    "# Most useful methods.\n",
    "# 1.pivot_table"
   ]
  },
  {
   "cell_type": "code",
   "execution_count": 19,
   "id": "2db50aad",
   "metadata": {},
   "outputs": [
    {
     "name": "stdout",
     "output_type": "stream",
     "text": [
      "RangeIndex(start=0, stop=2, step=1)\n",
      "Index(['name', 'age'], dtype='object')\n"
     ]
    }
   ],
   "source": [
    "print(df.index)\n",
    "print(df.columns)\n"
   ]
  },
  {
   "cell_type": "code",
   "execution_count": 23,
   "id": "c82c7881",
   "metadata": {},
   "outputs": [
    {
     "data": {
      "text/plain": [
       "array([<AxesSubplot:title={'center':'16'}>,\n",
       "       <AxesSubplot:title={'center':'17'}>], dtype=object)"
      ]
     },
     "execution_count": 23,
     "metadata": {},
     "output_type": "execute_result"
    },
    {
     "data": {
      "image/png": "[encoded data removed]",
      "text/plain": [
       "<Figure size 432x288 with 2 Axes>"
      ]
     },
     "metadata": {
      "needs_background": "light"
     },
     "output_type": "display_data"
    }
   ],
   "source": [
    "df.hist(\"name\",\"age\")"
   ]
  },
  {
   "cell_type": "code",
   "execution_count": null,
   "id": "126828b8",
   "metadata": {},
   "outputs": [],
   "source": []
  }
 ],
 "metadata": {
  "kernelspec": {
   "display_name": "Python 3 (ipykernel)",
   "language": "python",
   "name": "python3"
  },
  "language_info": {
   "codemirror_mode": {
    "name": "ipython",
    "version": 3
   },
   "file_extension": ".py",
   "mimetype": "text/x-python",
   "name": "python",
   "nbconvert_exporter": "python",
   "pygments_lexer": "ipython3",
   "version": "3.9.12"
  }
 },
 "nbformat": 4,
 "nbformat_minor": 5
}
